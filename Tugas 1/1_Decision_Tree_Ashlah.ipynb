{
  "nbformat": 4,
  "nbformat_minor": 0,
  "metadata": {
    "colab": {
      "provenance": [],
      "mount_file_id": "1vVJbmG6JsqztAUeVF4__3skGHDrd1hL5",
      "authorship_tag": "ABX9TyPKIl5AYYTvwV+X2ucxfF9U",
      "include_colab_link": true
    },
    "kernelspec": {
      "name": "python3",
      "display_name": "Python 3"
    },
    "language_info": {
      "name": "python"
    }
  },
  "cells": [
    {
      "cell_type": "markdown",
      "metadata": {
        "id": "view-in-github",
        "colab_type": "text"
      },
      "source": [
        "<a href=\"https://colab.research.google.com/github/ashlahafifi/AshlahA/blob/main/Tugas%201/1_Decision_Tree_Ashlah.ipynb\" target=\"_parent\"><img src=\"https://colab.research.google.com/assets/colab-badge.svg\" alt=\"Open In Colab\"/></a>"
      ]
    },
    {
      "cell_type": "markdown",
      "source": [
        "Nama: Muhammad Ashlah Afifi\n",
        "NIM:1103210216\n",
        "Dataset: melb_house.csv\n",
        "Overview:"
      ],
      "metadata": {
        "id": "JsFq1lOfOKWh"
      }
    },
    {
      "cell_type": "code",
      "source": [
        "# Impor library yang diperlukan\n",
        "import pandas as pd\n",
        "from sklearn.model_selection import train_test_split\n",
        "from sklearn.tree import DecisionTreeClassifier\n",
        "\n",
        "# Membaca data dari Google Drive\n",
        "url = \"/content/drive/MyDrive/Dataset/melb_data.csv\"\n",
        "data = pd.read_csv(url)\n",
        "\n",
        "# Membagi data menjadi set pelatihan dan set pengujian\n",
        "X_train, X_test, y_train, y_test = train_test_split(data.drop('Price', axis=1), data['Price'], test_size=0.25, random_state=0)\n",
        "\n",
        "# Membuat model decision tree\n",
        "model = DecisionTreeClassifier()\n",
        "\n",
        "# Melatih model pada set pelatihan\n",
        "model.fit(X_train, y_train)\n",
        "\n",
        "# Memprediksi harga pada set pengujian\n",
        "y_pred = model.predict(X_test)\n",
        "\n",
        "# Mengevaluasi kinerja model\n",
        "print('Akurasi:', model.score(X_test, y_test))\n",
        "\n",
        "# Menampilkan visualisasi decision tree\n",
        "import matplotlib.pyplot as plt\n",
        "plt.figure(figsize=(15,10))\n",
        "plt.plot_tree(model, filled=True, feature_names=X_train.columns)\n",
        "plt.show()\n"
      ],
      "metadata": {
        "id": "ZTsoCSyTOX-g"
      },
      "execution_count": null,
      "outputs": []
    }
  ]
}