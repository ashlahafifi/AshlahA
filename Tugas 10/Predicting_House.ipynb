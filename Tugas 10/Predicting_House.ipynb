{
  "nbformat": 4,
  "nbformat_minor": 0,
  "metadata": {
    "colab": {
      "provenance": []
    },
    "kernelspec": {
      "name": "python3",
      "display_name": "Python 3"
    },
    "language_info": {
      "name": "python"
    }
  },
  "cells": [
    {
      "cell_type": "markdown",
      "source": [
        "Nama: Muhammad Ashlah Afifi\n",
        "\n",
        "NIM: 1103210216\n",
        "\n",
        "Kelas: TK-45-G44"
      ],
      "metadata": {
        "id": "3M4na9lJP8Jj"
      }
    },
    {
      "cell_type": "markdown",
      "source": [
        "Step 1: Import necessary libraries"
      ],
      "metadata": {
        "id": "YgDDINniQKTH"
      }
    },
    {
      "cell_type": "code",
      "execution_count": 1,
      "metadata": {
        "id": "VEG7aX7KP0ld"
      },
      "outputs": [],
      "source": [
        "import tensorflow as tf\n",
        "from tensorflow.keras import layers, models\n",
        "from sklearn.model_selection import train_test_split\n",
        "from sklearn.preprocessing import StandardScaler\n",
        "import numpy as np\n",
        "import pandas as pd\n",
        "import matplotlib.pyplot as plt"
      ]
    },
    {
      "cell_type": "markdown",
      "source": [
        "Step 2: Generate or load the data"
      ],
      "metadata": {
        "id": "iZYiQ9ypQO5b"
      }
    },
    {
      "cell_type": "code",
      "source": [
        "# Generate synthetic data\n",
        "np.random.seed(42)\n",
        "num_samples = 1000\n",
        "\n",
        "# Features: square footage, number of bedrooms, age of the house, etc.\n",
        "square_footage = np.random.normal(1500, 500, num_samples)\n",
        "num_bedrooms = np.random.randint(1, 6, num_samples)\n",
        "age_of_house = np.random.randint(0, 50, num_samples)\n",
        "house_prices = 50000 + 150 * square_footage + 25000 * num_bedrooms - 200 * age_of_house + np.random.normal(0, 10000, num_samples)\n",
        "\n",
        "# Create a DataFrame\n",
        "data = pd.DataFrame({\n",
        "    'square_footage': square_footage,\n",
        "    'num_bedrooms': num_bedrooms,\n",
        "    'age_of_house': age_of_house,\n",
        "    'house_prices': house_prices\n",
        "})\n",
        "\n",
        "# Separate features and target\n",
        "features = data[['square_footage', 'num_bedrooms', 'age_of_house']]\n",
        "target = data['house_prices']\n"
      ],
      "metadata": {
        "id": "MM_yLLqoQSUR"
      },
      "execution_count": 2,
      "outputs": []
    },
    {
      "cell_type": "markdown",
      "source": [
        "Step 3: Preprocess the data"
      ],
      "metadata": {
        "id": "kbxGaUyVQVEQ"
      }
    },
    {
      "cell_type": "code",
      "source": [
        "# Split the data into training and testing sets\n",
        "train_features, test_features, train_target, test_target = train_test_split(features, target, test_size=0.2, random_state=42)\n",
        "\n",
        "# Normalize the data\n",
        "scaler = StandardScaler()\n",
        "train_features = scaler.fit_transform(train_features)\n",
        "test_features = scaler.transform(test_features)\n"
      ],
      "metadata": {
        "id": "KKvyNoXAQYjO"
      },
      "execution_count": 3,
      "outputs": []
    },
    {
      "cell_type": "markdown",
      "source": [
        "Step 4: Build the neural network model"
      ],
      "metadata": {
        "id": "3sqtZUgbQbNq"
      }
    },
    {
      "cell_type": "code",
      "source": [
        "def build_model():\n",
        "    model = models.Sequential()\n",
        "    model.add(layers.Dense(64, activation='relu', input_shape=(train_features.shape[1],)))\n",
        "    model.add(layers.Dense(64, activation='relu'))\n",
        "    model.add(layers.Dense(1))  # Output layer with 1 neuron for regression\n",
        "    model.compile(optimizer='rmsprop', loss='mse', metrics=['mae'])\n",
        "    return model\n",
        "\n",
        "model = build_model()\n"
      ],
      "metadata": {
        "id": "JHmf0cGRQes0"
      },
      "execution_count": 4,
      "outputs": []
    },
    {
      "cell_type": "markdown",
      "source": [
        "Step 5: Train the model"
      ],
      "metadata": {
        "id": "7E7NzIW4Qg-A"
      }
    },
    {
      "cell_type": "code",
      "source": [
        "history = model.fit(train_features, train_target,\n",
        "                    epochs=100, batch_size=16,\n",
        "                    validation_split=0.2, verbose=1)\n",
        "\n",
        "# Plot training & validation loss values\n",
        "plt.figure(figsize=(10, 6))\n",
        "plt.plot(history.history['loss'])\n",
        "plt.plot(history.history['val_loss'])\n",
        "plt.title('Model loss')\n",
        "plt.ylabel('Loss')\n",
        "plt.xlabel('Epoch')\n",
        "plt.legend(['Train', 'Validation'], loc='upper right')\n",
        "plt.show()\n"
      ],
      "metadata": {
        "colab": {
          "base_uri": "https://localhost:8080/",
          "height": 1000
        },
        "id": "Jgj1yQnmQkt6",
        "outputId": "abef894b-88ca-4081-9a05-71d0b042dfaa"
      },
      "execution_count": 5,
      "outputs": [
        {
          "output_type": "stream",
          "name": "stdout",
          "text": [
            "Epoch 1/100\n",
            "40/40 [==============================] - 3s 32ms/step - loss: 126646534144.0000 - mae: 346350.5938 - val_loss: 130943049728.0000 - val_mae: 352584.2500\n",
            "Epoch 2/100\n",
            "40/40 [==============================] - 0s 12ms/step - loss: 126642536448.0000 - mae: 346344.8438 - val_loss: 130937282560.0000 - val_mae: 352576.0625\n",
            "Epoch 3/100\n",
            "40/40 [==============================] - 0s 11ms/step - loss: 126635327488.0000 - mae: 346334.6562 - val_loss: 130927558656.0000 - val_mae: 352562.5000\n",
            "Epoch 4/100\n",
            "40/40 [==============================] - 1s 13ms/step - loss: 126623916032.0000 - mae: 346318.5000 - val_loss: 130912829440.0000 - val_mae: 352542.0000\n",
            "Epoch 5/100\n",
            "40/40 [==============================] - 1s 16ms/step - loss: 126607663104.0000 - mae: 346295.7500 - val_loss: 130892824576.0000 - val_mae: 352514.3125\n",
            "Epoch 6/100\n",
            "40/40 [==============================] - 0s 10ms/step - loss: 126585749504.0000 - mae: 346265.1875 - val_loss: 130866266112.0000 - val_mae: 352477.6875\n",
            "Epoch 7/100\n",
            "40/40 [==============================] - 0s 8ms/step - loss: 126556962816.0000 - mae: 346225.3125 - val_loss: 130832031744.0000 - val_mae: 352430.7500\n",
            "Epoch 8/100\n",
            "40/40 [==============================] - 0s 9ms/step - loss: 126521196544.0000 - mae: 346175.7812 - val_loss: 130789957632.0000 - val_mae: 352373.1562\n",
            "Epoch 9/100\n",
            "40/40 [==============================] - 0s 12ms/step - loss: 126477156352.0000 - mae: 346115.0625 - val_loss: 130738765824.0000 - val_mae: 352303.3438\n",
            "Epoch 10/100\n",
            "40/40 [==============================] - 0s 11ms/step - loss: 126424399872.0000 - mae: 346042.2812 - val_loss: 130677956608.0000 - val_mae: 352220.5625\n",
            "Epoch 11/100\n",
            "40/40 [==============================] - 1s 15ms/step - loss: 126361419776.0000 - mae: 345955.9375 - val_loss: 130605555712.0000 - val_mae: 352122.3125\n",
            "Epoch 12/100\n",
            "40/40 [==============================] - 0s 10ms/step - loss: 126288183296.0000 - mae: 345855.8438 - val_loss: 130522595328.0000 - val_mae: 352009.9688\n",
            "Epoch 13/100\n",
            "40/40 [==============================] - 0s 11ms/step - loss: 126202322944.0000 - mae: 345739.5312 - val_loss: 130425135104.0000 - val_mae: 351878.5000\n",
            "Epoch 14/100\n",
            "40/40 [==============================] - 0s 4ms/step - loss: 126106550272.0000 - mae: 345608.5625 - val_loss: 130318311424.0000 - val_mae: 351733.9375\n",
            "Epoch 15/100\n",
            "40/40 [==============================] - 0s 8ms/step - loss: 125998317568.0000 - mae: 345460.9688 - val_loss: 130196545536.0000 - val_mae: 351569.7188\n",
            "Epoch 16/100\n",
            "40/40 [==============================] - 0s 7ms/step - loss: 125874454528.0000 - mae: 345293.5625 - val_loss: 130056429568.0000 - val_mae: 351381.5625\n",
            "Epoch 17/100\n",
            "40/40 [==============================] - 0s 9ms/step - loss: 125735706624.0000 - mae: 345105.3438 - val_loss: 129902993408.0000 - val_mae: 351175.5000\n",
            "Epoch 18/100\n",
            "40/40 [==============================] - 1s 13ms/step - loss: 125582548992.0000 - mae: 344898.1562 - val_loss: 129730322432.0000 - val_mae: 350944.0625\n",
            "Epoch 19/100\n",
            "40/40 [==============================] - 0s 9ms/step - loss: 125411876864.0000 - mae: 344668.0938 - val_loss: 129542234112.0000 - val_mae: 350692.2188\n",
            "Epoch 20/100\n",
            "40/40 [==============================] - 0s 10ms/step - loss: 125225484288.0000 - mae: 344416.1562 - val_loss: 129335975936.0000 - val_mae: 350415.4375\n",
            "Epoch 21/100\n",
            "40/40 [==============================] - 1s 14ms/step - loss: 125021241344.0000 - mae: 344140.6250 - val_loss: 129109721088.0000 - val_mae: 350112.4375\n",
            "Epoch 22/100\n",
            "40/40 [==============================] - 0s 6ms/step - loss: 124802695168.0000 - mae: 343844.6875 - val_loss: 128868335616.0000 - val_mae: 349789.0000\n",
            "Epoch 23/100\n",
            "40/40 [==============================] - 1s 16ms/step - loss: 124561965056.0000 - mae: 343520.6875 - val_loss: 128601251840.0000 - val_mae: 349432.0625\n",
            "Epoch 24/100\n",
            "40/40 [==============================] - 1s 13ms/step - loss: 124299771904.0000 - mae: 343167.6562 - val_loss: 128313376768.0000 - val_mae: 349047.0938\n",
            "Epoch 25/100\n",
            "40/40 [==============================] - 1s 14ms/step - loss: 124015738880.0000 - mae: 342785.9375 - val_loss: 128001785856.0000 - val_mae: 348630.6250\n",
            "Epoch 26/100\n",
            "40/40 [==============================] - 0s 7ms/step - loss: 123712069632.0000 - mae: 342376.9062 - val_loss: 127668273152.0000 - val_mae: 348184.9375\n",
            "Epoch 27/100\n",
            "40/40 [==============================] - 0s 7ms/step - loss: 123385110528.0000 - mae: 341937.6562 - val_loss: 127311151104.0000 - val_mae: 347707.6250\n",
            "Epoch 28/100\n",
            "40/40 [==============================] - 0s 11ms/step - loss: 123042594816.0000 - mae: 341473.8125 - val_loss: 126938644480.0000 - val_mae: 347208.4688\n",
            "Epoch 29/100\n",
            "40/40 [==============================] - 0s 9ms/step - loss: 122672291840.0000 - mae: 340975.9375 - val_loss: 126532845568.0000 - val_mae: 346665.5000\n",
            "Epoch 30/100\n",
            "40/40 [==============================] - 0s 12ms/step - loss: 122280984576.0000 - mae: 340447.8438 - val_loss: 126101438464.0000 - val_mae: 346087.8750\n",
            "Epoch 31/100\n",
            "40/40 [==============================] - 0s 9ms/step - loss: 121858318336.0000 - mae: 339878.3125 - val_loss: 125643276288.0000 - val_mae: 345473.6875\n",
            "Epoch 32/100\n",
            "40/40 [==============================] - 0s 6ms/step - loss: 121414402048.0000 - mae: 339279.0625 - val_loss: 125161611264.0000 - val_mae: 344827.2188\n",
            "Epoch 33/100\n",
            "40/40 [==============================] - 0s 8ms/step - loss: 120950382592.0000 - mae: 338650.9375 - val_loss: 124651372544.0000 - val_mae: 344141.7812\n",
            "Epoch 34/100\n",
            "40/40 [==============================] - 0s 5ms/step - loss: 120453070848.0000 - mae: 337978.8750 - val_loss: 124116680704.0000 - val_mae: 343421.6875\n",
            "Epoch 35/100\n",
            "40/40 [==============================] - 0s 8ms/step - loss: 119930642432.0000 - mae: 337270.0625 - val_loss: 123538194432.0000 - val_mae: 342643.1562\n",
            "Epoch 36/100\n",
            "40/40 [==============================] - 0s 6ms/step - loss: 119377862656.0000 - mae: 336521.2812 - val_loss: 122947059712.0000 - val_mae: 341845.1875\n",
            "Epoch 37/100\n",
            "40/40 [==============================] - 0s 11ms/step - loss: 118799548416.0000 - mae: 335736.0625 - val_loss: 122310123520.0000 - val_mae: 340986.3438\n",
            "Epoch 38/100\n",
            "40/40 [==============================] - 0s 10ms/step - loss: 118188425216.0000 - mae: 334907.5000 - val_loss: 121655967744.0000 - val_mae: 340100.4375\n",
            "Epoch 39/100\n",
            "40/40 [==============================] - 0s 9ms/step - loss: 117554331648.0000 - mae: 334042.4688 - val_loss: 120965390336.0000 - val_mae: 339164.3125\n",
            "Epoch 40/100\n",
            "40/40 [==============================] - 0s 10ms/step - loss: 116892368896.0000 - mae: 333137.2812 - val_loss: 120244092928.0000 - val_mae: 338184.2812\n",
            "Epoch 41/100\n",
            "40/40 [==============================] - 0s 11ms/step - loss: 116186914816.0000 - mae: 332174.0938 - val_loss: 119479623680.0000 - val_mae: 337142.8125\n",
            "Epoch 42/100\n",
            "40/40 [==============================] - 0s 8ms/step - loss: 115462742016.0000 - mae: 331178.7500 - val_loss: 118694060032.0000 - val_mae: 336068.0625\n",
            "Epoch 43/100\n",
            "40/40 [==============================] - 0s 9ms/step - loss: 114693373952.0000 - mae: 330123.0938 - val_loss: 117867126784.0000 - val_mae: 334934.9375\n",
            "Epoch 44/100\n",
            "40/40 [==============================] - 0s 12ms/step - loss: 113908252672.0000 - mae: 329036.5000 - val_loss: 117014855680.0000 - val_mae: 333762.6562\n",
            "Epoch 45/100\n",
            "40/40 [==============================] - 0s 9ms/step - loss: 113078722560.0000 - mae: 327892.6562 - val_loss: 116121976832.0000 - val_mae: 332533.4375\n",
            "Epoch 46/100\n",
            "40/40 [==============================] - 0s 10ms/step - loss: 112225394688.0000 - mae: 326706.6250 - val_loss: 115195551744.0000 - val_mae: 331251.4062\n",
            "Epoch 47/100\n",
            "40/40 [==============================] - 0s 9ms/step - loss: 111339347968.0000 - mae: 325472.8125 - val_loss: 114241413120.0000 - val_mae: 329926.3125\n",
            "Epoch 48/100\n",
            "40/40 [==============================] - 1s 13ms/step - loss: 110415732736.0000 - mae: 324181.8125 - val_loss: 113246322688.0000 - val_mae: 328539.6875\n",
            "Epoch 49/100\n",
            "40/40 [==============================] - 1s 14ms/step - loss: 109460938752.0000 - mae: 322845.6562 - val_loss: 112210845696.0000 - val_mae: 327094.1562\n",
            "Epoch 50/100\n",
            "40/40 [==============================] - 0s 6ms/step - loss: 108472205312.0000 - mae: 321452.6875 - val_loss: 111143419904.0000 - val_mae: 325594.4688\n",
            "Epoch 51/100\n",
            "40/40 [==============================] - 0s 4ms/step - loss: 107443765248.0000 - mae: 319998.6875 - val_loss: 110042529792.0000 - val_mae: 324040.5938\n",
            "Epoch 52/100\n",
            "40/40 [==============================] - 0s 6ms/step - loss: 106393829376.0000 - mae: 318507.9375 - val_loss: 108904972288.0000 - val_mae: 322426.3438\n",
            "Epoch 53/100\n",
            "40/40 [==============================] - 0s 6ms/step - loss: 105315057664.0000 - mae: 316962.9688 - val_loss: 107737464832.0000 - val_mae: 320759.5938\n",
            "Epoch 54/100\n",
            "40/40 [==============================] - 0s 7ms/step - loss: 104181874688.0000 - mae: 315339.2500 - val_loss: 106517495808.0000 - val_mae: 319011.1875\n",
            "Epoch 55/100\n",
            "40/40 [==============================] - 0s 5ms/step - loss: 103021273088.0000 - mae: 313663.0625 - val_loss: 105274433536.0000 - val_mae: 317220.9688\n",
            "Epoch 56/100\n",
            "40/40 [==============================] - 0s 7ms/step - loss: 101826150400.0000 - mae: 311935.3750 - val_loss: 103994753024.0000 - val_mae: 315365.7812\n",
            "Epoch 57/100\n",
            "40/40 [==============================] - 0s 5ms/step - loss: 100621361152.0000 - mae: 310170.5000 - val_loss: 102689218560.0000 - val_mae: 313458.8438\n",
            "Epoch 58/100\n",
            "40/40 [==============================] - 0s 5ms/step - loss: 99358523392.0000 - mae: 308308.9375 - val_loss: 101339037696.0000 - val_mae: 311472.1250\n",
            "Epoch 59/100\n",
            "40/40 [==============================] - 0s 10ms/step - loss: 98076811264.0000 - mae: 306406.5938 - val_loss: 99965845504.0000 - val_mae: 309437.9062\n",
            "Epoch 60/100\n",
            "40/40 [==============================] - 0s 6ms/step - loss: 96749043712.0000 - mae: 304431.7188 - val_loss: 98548473856.0000 - val_mae: 307324.3750\n",
            "Epoch 61/100\n",
            "40/40 [==============================] - 0s 3ms/step - loss: 95410610176.0000 - mae: 302416.9062 - val_loss: 97111785472.0000 - val_mae: 305165.0938\n",
            "Epoch 62/100\n",
            "40/40 [==============================] - 0s 2ms/step - loss: 94034845696.0000 - mae: 300332.6250 - val_loss: 95639576576.0000 - val_mae: 302935.4375\n",
            "Epoch 63/100\n",
            "40/40 [==============================] - 0s 2ms/step - loss: 92612296704.0000 - mae: 298167.5625 - val_loss: 94099701760.0000 - val_mae: 300589.9375\n",
            "Epoch 64/100\n",
            "40/40 [==============================] - 0s 2ms/step - loss: 91155742720.0000 - mae: 295935.5312 - val_loss: 92535734272.0000 - val_mae: 298187.2500\n",
            "Epoch 65/100\n",
            "40/40 [==============================] - 0s 3ms/step - loss: 89664364544.0000 - mae: 293622.8125 - val_loss: 90940006400.0000 - val_mae: 295714.0938\n",
            "Epoch 66/100\n",
            "40/40 [==============================] - 0s 3ms/step - loss: 88158126080.0000 - mae: 291261.6875 - val_loss: 89349111808.0000 - val_mae: 293214.4375\n",
            "Epoch 67/100\n",
            "40/40 [==============================] - 0s 3ms/step - loss: 86605971456.0000 - mae: 288812.1875 - val_loss: 87687127040.0000 - val_mae: 290587.3750\n",
            "Epoch 68/100\n",
            "40/40 [==============================] - 0s 3ms/step - loss: 85025726464.0000 - mae: 286301.0312 - val_loss: 85993447424.0000 - val_mae: 287887.6875\n",
            "Epoch 69/100\n",
            "40/40 [==============================] - 0s 2ms/step - loss: 83430440960.0000 - mae: 283726.7500 - val_loss: 84283695104.0000 - val_mae: 285128.5312\n",
            "Epoch 70/100\n",
            "40/40 [==============================] - 0s 2ms/step - loss: 81814142976.0000 - mae: 281098.4375 - val_loss: 82561228800.0000 - val_mae: 282318.9375\n",
            "Epoch 71/100\n",
            "40/40 [==============================] - 0s 2ms/step - loss: 80163528704.0000 - mae: 278382.8438 - val_loss: 80808214528.0000 - val_mae: 279419.8438\n",
            "Epoch 72/100\n",
            "40/40 [==============================] - 0s 2ms/step - loss: 78469480448.0000 - mae: 275564.4688 - val_loss: 78992171008.0000 - val_mae: 276387.1562\n",
            "Epoch 73/100\n",
            "40/40 [==============================] - 0s 3ms/step - loss: 76767191040.0000 - mae: 272695.2500 - val_loss: 77190168576.0000 - val_mae: 273334.9375\n",
            "Epoch 74/100\n",
            "40/40 [==============================] - 0s 3ms/step - loss: 75050500096.0000 - mae: 269758.7500 - val_loss: 75346960384.0000 - val_mae: 270172.8125\n",
            "Epoch 75/100\n",
            "40/40 [==============================] - 0s 3ms/step - loss: 73289646080.0000 - mae: 266715.4375 - val_loss: 73477922816.0000 - val_mae: 266924.8125\n",
            "Epoch 76/100\n",
            "40/40 [==============================] - 0s 3ms/step - loss: 71508836352.0000 - mae: 263597.3750 - val_loss: 71600177152.0000 - val_mae: 263616.0000\n",
            "Epoch 77/100\n",
            "40/40 [==============================] - 0s 3ms/step - loss: 69748432896.0000 - mae: 260458.1562 - val_loss: 69709078528.0000 - val_mae: 260233.9531\n",
            "Epoch 78/100\n",
            "40/40 [==============================] - 0s 3ms/step - loss: 67909373952.0000 - mae: 257154.0000 - val_loss: 67757068288.0000 - val_mae: 256691.4062\n",
            "Epoch 79/100\n",
            "40/40 [==============================] - 0s 2ms/step - loss: 66052575232.0000 - mae: 253752.8438 - val_loss: 65809416192.0000 - val_mae: 253098.7031\n",
            "Epoch 80/100\n",
            "40/40 [==============================] - 0s 3ms/step - loss: 64221814784.0000 - mae: 250342.7500 - val_loss: 63865561088.0000 - val_mae: 249453.6562\n",
            "Epoch 81/100\n",
            "40/40 [==============================] - 0s 2ms/step - loss: 62379831296.0000 - mae: 246851.9688 - val_loss: 61911486464.0000 - val_mae: 245724.0312\n",
            "Epoch 82/100\n",
            "40/40 [==============================] - 0s 3ms/step - loss: 60507488256.0000 - mae: 243252.6719 - val_loss: 59906031616.0000 - val_mae: 241835.9219\n",
            "Epoch 83/100\n",
            "40/40 [==============================] - 0s 2ms/step - loss: 58622713856.0000 - mae: 239560.5469 - val_loss: 57943793664.0000 - val_mae: 237951.2031\n",
            "Epoch 84/100\n",
            "40/40 [==============================] - 0s 3ms/step - loss: 56750219264.0000 - mae: 235823.7969 - val_loss: 55965921280.0000 - val_mae: 233965.0938\n",
            "Epoch 85/100\n",
            "40/40 [==============================] - 0s 3ms/step - loss: 54859501568.0000 - mae: 231977.7188 - val_loss: 53950623744.0000 - val_mae: 229821.3438\n",
            "Epoch 86/100\n",
            "40/40 [==============================] - 0s 2ms/step - loss: 52950757376.0000 - mae: 228008.0938 - val_loss: 51940544512.0000 - val_mae: 225600.6719\n",
            "Epoch 87/100\n",
            "40/40 [==============================] - 0s 3ms/step - loss: 51035504640.0000 - mae: 223950.9688 - val_loss: 49915662336.0000 - val_mae: 221249.3438\n",
            "Epoch 88/100\n",
            "40/40 [==============================] - 0s 3ms/step - loss: 49147023360.0000 - mae: 219848.0312 - val_loss: 47936598016.0000 - val_mae: 216896.6562\n",
            "Epoch 89/100\n",
            "40/40 [==============================] - 0s 2ms/step - loss: 47246913536.0000 - mae: 215632.2031 - val_loss: 45941252096.0000 - val_mae: 212411.0312\n",
            "Epoch 90/100\n",
            "40/40 [==============================] - 0s 3ms/step - loss: 45335662592.0000 - mae: 211291.8438 - val_loss: 43938324480.0000 - val_mae: 207788.5156\n",
            "Epoch 91/100\n",
            "40/40 [==============================] - 0s 3ms/step - loss: 43473252352.0000 - mae: 206947.1562 - val_loss: 41987321856.0000 - val_mae: 203162.0312\n",
            "Epoch 92/100\n",
            "40/40 [==============================] - 0s 2ms/step - loss: 41592901632.0000 - mae: 202449.9531 - val_loss: 40037797888.0000 - val_mae: 198409.0312\n",
            "Epoch 93/100\n",
            "40/40 [==============================] - 0s 2ms/step - loss: 39717646336.0000 - mae: 197841.9531 - val_loss: 38054801408.0000 - val_mae: 193440.8594\n",
            "Epoch 94/100\n",
            "40/40 [==============================] - 0s 2ms/step - loss: 37872214016.0000 - mae: 193155.4688 - val_loss: 36137213952.0000 - val_mae: 188482.9844\n",
            "Epoch 95/100\n",
            "40/40 [==============================] - 0s 3ms/step - loss: 36033830912.0000 - mae: 188364.4062 - val_loss: 34214324224.0000 - val_mae: 183357.4219\n",
            "Epoch 96/100\n",
            "40/40 [==============================] - 0s 3ms/step - loss: 34225278976.0000 - mae: 183491.0938 - val_loss: 32347232256.0000 - val_mae: 178211.2500\n",
            "Epoch 97/100\n",
            "40/40 [==============================] - 0s 2ms/step - loss: 32445607936.0000 - mae: 178547.9844 - val_loss: 30504468480.0000 - val_mae: 172960.2188\n",
            "Epoch 98/100\n",
            "40/40 [==============================] - 0s 3ms/step - loss: 30710927360.0000 - mae: 173549.6562 - val_loss: 28711661568.0000 - val_mae: 167660.5625\n",
            "Epoch 99/100\n",
            "40/40 [==============================] - 0s 3ms/step - loss: 28984682496.0000 - mae: 168419.4844 - val_loss: 26934466560.0000 - val_mae: 162207.8438\n",
            "Epoch 100/100\n",
            "40/40 [==============================] - 0s 3ms/step - loss: 27282862080.0000 - mae: 163134.7344 - val_loss: 25183813632.0000 - val_mae: 156617.9688\n"
          ]
        },
        {
          "output_type": "display_data",
          "data": {
            "text/plain": [
              "<Figure size 1000x600 with 1 Axes>"
            ],
            "image/png": "[encoded data removed]"
          },
          "metadata": {}
        }
      ]
    },
    {
      "cell_type": "markdown",
      "source": [
        "Step 6: Evaluate the model"
      ],
      "metadata": {
        "id": "6hnT5SiJQm0a"
      }
    },
    {
      "cell_type": "code",
      "source": [
        "test_mse_score, test_mae_score = model.evaluate(test_features, test_target)\n",
        "print(f\"Test MSE: {test_mse_score}\")\n",
        "print(f\"Test MAE: {test_mae_score}\")\n"
      ],
      "metadata": {
        "colab": {
          "base_uri": "https://localhost:8080/"
        },
        "id": "PNMCtiORQvJY",
        "outputId": "e66c8fc7-9b44-4f3f-d2b6-dbed7b1b7e03"
      },
      "execution_count": 6,
      "outputs": [
        {
          "output_type": "stream",
          "name": "stdout",
          "text": [
            "7/7 [==============================] - 0s 2ms/step - loss: 25674579968.0000 - mae: 158010.0156\n",
            "Test MSE: 25674579968.0\n",
            "Test MAE: 158010.015625\n"
          ]
        }
      ]
    }
  ]
}