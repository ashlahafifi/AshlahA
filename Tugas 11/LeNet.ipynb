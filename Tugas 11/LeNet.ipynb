{
  "nbformat": 4,
  "nbformat_minor": 0,
  "metadata": {
    "colab": {
      "provenance": []
    },
    "kernelspec": {
      "name": "python3",
      "display_name": "Python 3"
    },
    "language_info": {
      "name": "python"
    }
  },
  "cells": [
    {
      "cell_type": "code",
      "execution_count": 1,
      "metadata": {
        "id": "IyvMe6_pIRAq"
      },
      "outputs": [],
      "source": [
        "# 1. Import Libraries\n",
        "import tensorflow as tf\n",
        "from tensorflow.keras import datasets, layers, models\n",
        "import matplotlib.pyplot as plt\n",
        "import tensorflow as tf\n",
        "from tensorflow.keras import datasets, layers, models\n",
        "import matplotlib.pyplot as plt"
      ]
    },
    {
      "cell_type": "code",
      "source": [
        "# 2. Load and Preprocess CIFAR-10 Dataset\n",
        "(x_train, y_train), (x_test, y_test) = datasets.cifar10.load_data()\n",
        "\n",
        "# Normalize pixel values to be between 0 and 1\n",
        "x_train, x_test = x_train / 255.0, x_test / 255.0"
      ],
      "metadata": {
        "colab": {
          "base_uri": "https://localhost:8080/"
        },
        "id": "1-DTqsdpM-5y",
        "outputId": "949254b2-e58f-49de-dd99-236344e33f78"
      },
      "execution_count": 2,
      "outputs": [
        {
          "output_type": "stream",
          "name": "stdout",
          "text": [
            "Downloading data from https://www.cs.toronto.edu/~kriz/cifar-10-python.tar.gz\n",
            "170498071/170498071 [==============================] - 7s 0us/step\n"
          ]
        }
      ]
    },
    {
      "cell_type": "code",
      "source": [
        "# 3. Build the LeNet Model\n",
        "model = models.Sequential()\n"
      ],
      "metadata": {
        "id": "1MXT39zhNCih"
      },
      "execution_count": 3,
      "outputs": []
    },
    {
      "cell_type": "code",
      "source": [
        "# Layer 1: Convolutional Layer\n",
        "model.add(layers.Conv2D(6, (5, 5), activation='relu', input_shape=(32, 32, 3)))\n",
        "model.add(layers.AveragePooling2D())\n",
        "\n",
        "# Layer 2: Convolutional Layer\n",
        "model.add(layers.Conv2D(16, (5, 5), activation='relu'))\n",
        "model.add(layers.AveragePooling2D())\n",
        "\n",
        "# Layer 3: Flatten the layers\n",
        "model.add(layers.Flatten())\n",
        "\n",
        "# Layer 4: Fully Connected Layer\n",
        "model.add(layers.Dense(120, activation='relu'))\n",
        "\n",
        "# Layer 5: Fully Connected Layer\n",
        "model.add(layers.Dense(84, activation='relu'))\n",
        "\n",
        "# Layer 6: Fully Connected Layer with Softmax Activation\n",
        "model.add(layers.Dense(10, activation='softmax'))"
      ],
      "metadata": {
        "id": "U75vhq1uNFnh"
      },
      "execution_count": 4,
      "outputs": []
    },
    {
      "cell_type": "code",
      "source": [
        "# 4. Compile the Model\n",
        "model.compile(optimizer='adam',\n",
        "              loss=tf.keras.losses.SparseCategoricalCrossentropy(from_logits=False),\n",
        "              metrics=['accuracy'])"
      ],
      "metadata": {
        "id": "BvhNaTZVNJzY"
      },
      "execution_count": 5,
      "outputs": []
    },
    {
      "cell_type": "code",
      "source": [
        "# 5. Train the Model\n",
        "history = model.fit(x_train, y_train, epochs=10,\n",
        "                    validation_data=(x_test, y_test))"
      ],
      "metadata": {
        "colab": {
          "base_uri": "https://localhost:8080/"
        },
        "id": "ZL1L8fosNMiC",
        "outputId": "c2bff272-e690-46d3-fb18-d4b058b7f88f"
      },
      "execution_count": 6,
      "outputs": [
        {
          "output_type": "stream",
          "name": "stdout",
          "text": [
            "Epoch 1/10\n",
            "1563/1563 [==============================] - 41s 25ms/step - loss: 1.6936 - accuracy: 0.3853 - val_loss: 1.5035 - val_accuracy: 0.4581\n",
            "Epoch 2/10\n",
            "1563/1563 [==============================] - 41s 26ms/step - loss: 1.4194 - accuracy: 0.4920 - val_loss: 1.3754 - val_accuracy: 0.5047\n",
            "Epoch 3/10\n",
            "1563/1563 [==============================] - 40s 25ms/step - loss: 1.3183 - accuracy: 0.5301 - val_loss: 1.3209 - val_accuracy: 0.5357\n",
            "Epoch 4/10\n",
            "1563/1563 [==============================] - 39s 25ms/step - loss: 1.2405 - accuracy: 0.5582 - val_loss: 1.3018 - val_accuracy: 0.5346\n",
            "Epoch 5/10\n",
            "1563/1563 [==============================] - 38s 24ms/step - loss: 1.1813 - accuracy: 0.5821 - val_loss: 1.2172 - val_accuracy: 0.5662\n",
            "Epoch 6/10\n",
            "1563/1563 [==============================] - 38s 24ms/step - loss: 1.1281 - accuracy: 0.6014 - val_loss: 1.2242 - val_accuracy: 0.5667\n",
            "Epoch 7/10\n",
            "1563/1563 [==============================] - 38s 24ms/step - loss: 1.0833 - accuracy: 0.6171 - val_loss: 1.2148 - val_accuracy: 0.5746\n",
            "Epoch 8/10\n",
            "1563/1563 [==============================] - 39s 25ms/step - loss: 1.0404 - accuracy: 0.6327 - val_loss: 1.1756 - val_accuracy: 0.5857\n",
            "Epoch 9/10\n",
            "1563/1563 [==============================] - 39s 25ms/step - loss: 1.0059 - accuracy: 0.6430 - val_loss: 1.1668 - val_accuracy: 0.5939\n",
            "Epoch 10/10\n",
            "1563/1563 [==============================] - 40s 25ms/step - loss: 0.9704 - accuracy: 0.6550 - val_loss: 1.1729 - val_accuracy: 0.5880\n"
          ]
        }
      ]
    },
    {
      "cell_type": "code",
      "source": [
        "# 6. Evaluate the Model and Plot the Results\n",
        "plt.plot(history.history['accuracy'], label='accuracy')\n",
        "plt.plot(history.history['val_accuracy'], label='val_accuracy')\n",
        "plt.xlabel('Epoch')\n",
        "plt.ylabel('Accuracy')\n",
        "plt.ylim([0, 1])\n",
        "plt.legend(loc='lower right')\n",
        "\n",
        "test_loss, test_acc = model.evaluate(x_test, y_test, verbose=2)\n",
        "print(test_acc)\n"
      ],
      "metadata": {
        "colab": {
          "base_uri": "https://localhost:8080/",
          "height": 490
        },
        "id": "QctdOcYXNO6A",
        "outputId": "cecabd1a-4d66-4bed-cfd7-e24f84048e48"
      },
      "execution_count": 7,
      "outputs": [
        {
          "output_type": "stream",
          "name": "stdout",
          "text": [
            "313/313 - 3s - loss: 1.1729 - accuracy: 0.5880 - 3s/epoch - 8ms/step\n",
            "0.5879999995231628\n"
          ]
        },
        {
          "output_type": "display_data",
          "data": {
            "text/plain": [
              "<Figure size 640x480 with 1 Axes>"
            ],
            "image/png": "[encoded data removed]"
          },
          "metadata": {}
        }
      ]
    }
  ]
}