{
  "nbformat": 4,
  "nbformat_minor": 0,
  "metadata": {
    "colab": {
      "provenance": []
    },
    "kernelspec": {
      "name": "python3",
      "display_name": "Python 3"
    },
    "language_info": {
      "name": "python"
    }
  },
  "cells": [
    {
      "cell_type": "markdown",
      "source": [
        "Nama: Muhammad Ashlah Afifi\n",
        "\n",
        "NIM: 1103210216\n",
        "\n",
        "Kelas: TK-45-G44"
      ],
      "metadata": {
        "id": "A9nk5cFzOH8q"
      }
    },
    {
      "cell_type": "markdown",
      "source": [
        "Step 1: Import necessary libraries"
      ],
      "metadata": {
        "id": "XH9Lsab1Oki-"
      }
    },
    {
      "cell_type": "code",
      "execution_count": 1,
      "metadata": {
        "id": "6N6y6VKwNjwo"
      },
      "outputs": [],
      "source": [
        "\n",
        "\n",
        "import tensorflow as tf\n",
        "from tensorflow.keras import layers, models\n",
        "from sklearn.model_selection import train_test_split\n",
        "from sklearn.preprocessing import StandardScaler\n",
        "import numpy as np\n",
        "import matplotlib.pyplot as plt"
      ]
    },
    {
      "cell_type": "markdown",
      "source": [
        "Step 2: Load and preprocess the data"
      ],
      "metadata": {
        "id": "pwgND63fOoJF"
      }
    },
    {
      "cell_type": "code",
      "source": [
        "# Load the dataset\n",
        "from tensorflow.keras.datasets import boston_housing\n",
        "\n",
        "(train_data, train_targets), (test_data, test_targets) = boston_housing.load_data()\n",
        "\n",
        "# Normalize the data\n",
        "scaler = StandardScaler()\n",
        "train_data = scaler.fit_transform(train_data)\n",
        "test_data = scaler.transform(test_data)\n",
        "\n",
        "# Print dataset shapes\n",
        "print(f\"Training data shape: {train_data.shape}\")\n",
        "print(f\"Test data shape: {test_data.shape}\")\n"
      ],
      "metadata": {
        "colab": {
          "base_uri": "https://localhost:8080/"
        },
        "id": "aBOQRkPNOs-b",
        "outputId": "2c702893-9b86-4e27-9614-35933a23e197"
      },
      "execution_count": 2,
      "outputs": [
        {
          "output_type": "stream",
          "name": "stdout",
          "text": [
            "Downloading data from https://storage.googleapis.com/tensorflow/tf-keras-datasets/boston_housing.npz\n",
            "57026/57026 [==============================] - 0s 0us/step\n",
            "Training data shape: (404, 13)\n",
            "Test data shape: (102, 13)\n"
          ]
        }
      ]
    },
    {
      "cell_type": "markdown",
      "source": [
        "Step 3: Build the neural network model"
      ],
      "metadata": {
        "id": "xaqhsUWsOwja"
      }
    },
    {
      "cell_type": "code",
      "source": [
        "def build_model():\n",
        "    model = models.Sequential()\n",
        "    model.add(layers.Dense(64, activation='relu', input_shape=(train_data.shape[1],)))\n",
        "    model.add(layers.Dense(64, activation='relu'))\n",
        "    model.add(layers.Dense(1))  # Output layer with 1 neuron for regression\n",
        "    model.compile(optimizer='rmsprop', loss='mse', metrics=['mae'])\n",
        "    return model\n",
        "\n",
        "model = build_model()\n"
      ],
      "metadata": {
        "id": "uHmzAIs-Oz3P"
      },
      "execution_count": 3,
      "outputs": []
    },
    {
      "cell_type": "markdown",
      "source": [
        "Step 4: Train the model"
      ],
      "metadata": {
        "id": "5c6VIB6wO2aP"
      }
    },
    {
      "cell_type": "code",
      "source": [
        "history = model.fit(train_data, train_targets,\n",
        "                    epochs=100, batch_size=16,\n",
        "                    validation_split=0.2, verbose=1)\n",
        "\n",
        "# Plot training & validation loss values\n",
        "plt.figure(figsize=(10, 6))\n",
        "plt.plot(history.history['loss'])\n",
        "plt.plot(history.history['val_loss'])\n",
        "plt.title('Model loss')\n",
        "plt.ylabel('Loss')\n",
        "plt.xlabel('Epoch')\n",
        "plt.legend(['Train', 'Validation'], loc='upper right')\n",
        "plt.show()\n"
      ],
      "metadata": {
        "colab": {
          "base_uri": "https://localhost:8080/",
          "height": 1000
        },
        "id": "ISaT29rTO5K4",
        "outputId": "e20499a2-c8f0-4a29-95e2-44574921ca0b"
      },
      "execution_count": 4,
      "outputs": [
        {
          "output_type": "stream",
          "name": "stdout",
          "text": [
            "Epoch 1/100\n",
            "21/21 [==============================] - 1s 14ms/step - loss: 491.1046 - mae: 20.2381 - val_loss: 475.6546 - val_mae: 19.9688\n",
            "Epoch 2/100\n",
            "21/21 [==============================] - 0s 6ms/step - loss: 347.1687 - mae: 16.5954 - val_loss: 315.2783 - val_mae: 15.7489\n",
            "Epoch 3/100\n",
            "21/21 [==============================] - 0s 5ms/step - loss: 200.8186 - mae: 11.9816 - val_loss: 171.8066 - val_mae: 10.5812\n",
            "Epoch 4/100\n",
            "21/21 [==============================] - 0s 4ms/step - loss: 102.0206 - mae: 7.8917 - val_loss: 87.4048 - val_mae: 7.0524\n",
            "Epoch 5/100\n",
            "21/21 [==============================] - 0s 4ms/step - loss: 61.1601 - mae: 5.7837 - val_loss: 61.9994 - val_mae: 5.8384\n",
            "Epoch 6/100\n",
            "21/21 [==============================] - 0s 5ms/step - loss: 45.4425 - mae: 4.7995 - val_loss: 44.2284 - val_mae: 4.8668\n",
            "Epoch 7/100\n",
            "21/21 [==============================] - 0s 6ms/step - loss: 35.5216 - mae: 4.0739 - val_loss: 32.8924 - val_mae: 4.2647\n",
            "Epoch 8/100\n",
            "21/21 [==============================] - 0s 6ms/step - loss: 29.6601 - mae: 3.7028 - val_loss: 27.7882 - val_mae: 3.9843\n",
            "Epoch 9/100\n",
            "21/21 [==============================] - 0s 6ms/step - loss: 25.3504 - mae: 3.3639 - val_loss: 22.8912 - val_mae: 3.6567\n",
            "Epoch 10/100\n",
            "21/21 [==============================] - 0s 7ms/step - loss: 22.3995 - mae: 3.1514 - val_loss: 20.9489 - val_mae: 3.5641\n",
            "Epoch 11/100\n",
            "21/21 [==============================] - 0s 7ms/step - loss: 20.0574 - mae: 3.0182 - val_loss: 20.3532 - val_mae: 3.4990\n",
            "Epoch 12/100\n",
            "21/21 [==============================] - 0s 6ms/step - loss: 18.6564 - mae: 2.9132 - val_loss: 18.2412 - val_mae: 3.3674\n",
            "Epoch 13/100\n",
            "21/21 [==============================] - 0s 7ms/step - loss: 17.0757 - mae: 2.7968 - val_loss: 17.1055 - val_mae: 3.1155\n",
            "Epoch 14/100\n",
            "21/21 [==============================] - 0s 6ms/step - loss: 16.0196 - mae: 2.6741 - val_loss: 16.2694 - val_mae: 2.9852\n",
            "Epoch 15/100\n",
            "21/21 [==============================] - 0s 6ms/step - loss: 15.3146 - mae: 2.6497 - val_loss: 15.9915 - val_mae: 3.1550\n",
            "Epoch 16/100\n",
            "21/21 [==============================] - 0s 6ms/step - loss: 14.1504 - mae: 2.4995 - val_loss: 15.2902 - val_mae: 2.9338\n",
            "Epoch 17/100\n",
            "21/21 [==============================] - 0s 6ms/step - loss: 13.5864 - mae: 2.4790 - val_loss: 14.5195 - val_mae: 2.9830\n",
            "Epoch 18/100\n",
            "21/21 [==============================] - 0s 6ms/step - loss: 13.0188 - mae: 2.4545 - val_loss: 14.2866 - val_mae: 2.8795\n",
            "Epoch 19/100\n",
            "21/21 [==============================] - 0s 6ms/step - loss: 12.2980 - mae: 2.3679 - val_loss: 15.2178 - val_mae: 3.0416\n",
            "Epoch 20/100\n",
            "21/21 [==============================] - 0s 6ms/step - loss: 11.9920 - mae: 2.3785 - val_loss: 13.8990 - val_mae: 2.7848\n",
            "Epoch 21/100\n",
            "21/21 [==============================] - 0s 6ms/step - loss: 11.6975 - mae: 2.3461 - val_loss: 14.0729 - val_mae: 2.8808\n",
            "Epoch 22/100\n",
            "21/21 [==============================] - 0s 6ms/step - loss: 11.2122 - mae: 2.3218 - val_loss: 13.3116 - val_mae: 2.7316\n",
            "Epoch 23/100\n",
            "21/21 [==============================] - 0s 6ms/step - loss: 11.0088 - mae: 2.2760 - val_loss: 14.4060 - val_mae: 2.9208\n",
            "Epoch 24/100\n",
            "21/21 [==============================] - 0s 6ms/step - loss: 10.4599 - mae: 2.1834 - val_loss: 13.4478 - val_mae: 2.7213\n",
            "Epoch 25/100\n",
            "21/21 [==============================] - 0s 6ms/step - loss: 10.4037 - mae: 2.2631 - val_loss: 13.0013 - val_mae: 2.7426\n",
            "Epoch 26/100\n",
            "21/21 [==============================] - 0s 6ms/step - loss: 10.2185 - mae: 2.2135 - val_loss: 12.8353 - val_mae: 2.7871\n",
            "Epoch 27/100\n",
            "21/21 [==============================] - 0s 6ms/step - loss: 10.2881 - mae: 2.1952 - val_loss: 13.2162 - val_mae: 2.7315\n",
            "Epoch 28/100\n",
            "21/21 [==============================] - 0s 8ms/step - loss: 9.8679 - mae: 2.1720 - val_loss: 13.7936 - val_mae: 2.7284\n",
            "Epoch 29/100\n",
            "21/21 [==============================] - 0s 6ms/step - loss: 9.6948 - mae: 2.1307 - val_loss: 12.9495 - val_mae: 2.7211\n",
            "Epoch 30/100\n",
            "21/21 [==============================] - 0s 7ms/step - loss: 9.4859 - mae: 2.1171 - val_loss: 14.7355 - val_mae: 2.7927\n",
            "Epoch 31/100\n",
            "21/21 [==============================] - 0s 5ms/step - loss: 9.4667 - mae: 2.1289 - val_loss: 15.0318 - val_mae: 3.0026\n",
            "Epoch 32/100\n",
            "21/21 [==============================] - 0s 4ms/step - loss: 9.4428 - mae: 2.1402 - val_loss: 13.2287 - val_mae: 2.6669\n",
            "Epoch 33/100\n",
            "21/21 [==============================] - 0s 4ms/step - loss: 9.1656 - mae: 2.1078 - val_loss: 13.6145 - val_mae: 2.6412\n",
            "Epoch 34/100\n",
            "21/21 [==============================] - 0s 4ms/step - loss: 8.8603 - mae: 2.0871 - val_loss: 13.0922 - val_mae: 2.6450\n",
            "Epoch 35/100\n",
            "21/21 [==============================] - 0s 4ms/step - loss: 8.9418 - mae: 2.0898 - val_loss: 14.3401 - val_mae: 2.6745\n",
            "Epoch 36/100\n",
            "21/21 [==============================] - 0s 4ms/step - loss: 8.7557 - mae: 2.0721 - val_loss: 13.2228 - val_mae: 2.6232\n",
            "Epoch 37/100\n",
            "21/21 [==============================] - 0s 4ms/step - loss: 8.6811 - mae: 2.0611 - val_loss: 15.3192 - val_mae: 2.8544\n",
            "Epoch 38/100\n",
            "21/21 [==============================] - 0s 4ms/step - loss: 8.5509 - mae: 2.0550 - val_loss: 13.7991 - val_mae: 2.6992\n",
            "Epoch 39/100\n",
            "21/21 [==============================] - 0s 4ms/step - loss: 8.5663 - mae: 2.0327 - val_loss: 14.1594 - val_mae: 2.7291\n",
            "Epoch 40/100\n",
            "21/21 [==============================] - 0s 4ms/step - loss: 8.4338 - mae: 2.0189 - val_loss: 14.2425 - val_mae: 2.6369\n",
            "Epoch 41/100\n",
            "21/21 [==============================] - 0s 4ms/step - loss: 8.3755 - mae: 2.0020 - val_loss: 13.5281 - val_mae: 2.6243\n",
            "Epoch 42/100\n",
            "21/21 [==============================] - 0s 4ms/step - loss: 8.1637 - mae: 2.0052 - val_loss: 14.5221 - val_mae: 2.6903\n",
            "Epoch 43/100\n",
            "21/21 [==============================] - 0s 4ms/step - loss: 8.0177 - mae: 1.9633 - val_loss: 13.5994 - val_mae: 2.6032\n",
            "Epoch 44/100\n",
            "21/21 [==============================] - 0s 4ms/step - loss: 7.7517 - mae: 1.9391 - val_loss: 13.5366 - val_mae: 2.6316\n",
            "Epoch 45/100\n",
            "21/21 [==============================] - 0s 4ms/step - loss: 7.9115 - mae: 1.9310 - val_loss: 14.8224 - val_mae: 2.6062\n",
            "Epoch 46/100\n",
            "21/21 [==============================] - 0s 5ms/step - loss: 7.8563 - mae: 1.9637 - val_loss: 13.3263 - val_mae: 2.6478\n",
            "Epoch 47/100\n",
            "21/21 [==============================] - 0s 4ms/step - loss: 7.9112 - mae: 1.9147 - val_loss: 15.3878 - val_mae: 2.8206\n",
            "Epoch 48/100\n",
            "21/21 [==============================] - 0s 4ms/step - loss: 7.8976 - mae: 1.9369 - val_loss: 13.7567 - val_mae: 2.7654\n",
            "Epoch 49/100\n",
            "21/21 [==============================] - 0s 4ms/step - loss: 7.6994 - mae: 1.9384 - val_loss: 13.4889 - val_mae: 2.6023\n",
            "Epoch 50/100\n",
            "21/21 [==============================] - 0s 4ms/step - loss: 7.8692 - mae: 1.9304 - val_loss: 13.1309 - val_mae: 2.6774\n",
            "Epoch 51/100\n",
            "21/21 [==============================] - 0s 4ms/step - loss: 7.5314 - mae: 1.8892 - val_loss: 13.1379 - val_mae: 2.5996\n",
            "Epoch 52/100\n",
            "21/21 [==============================] - 0s 4ms/step - loss: 7.5521 - mae: 1.8876 - val_loss: 13.7634 - val_mae: 2.6349\n",
            "Epoch 53/100\n",
            "21/21 [==============================] - 0s 4ms/step - loss: 7.5091 - mae: 1.8748 - val_loss: 14.1956 - val_mae: 2.6527\n",
            "Epoch 54/100\n",
            "21/21 [==============================] - 0s 4ms/step - loss: 7.4882 - mae: 1.9149 - val_loss: 13.2650 - val_mae: 2.7342\n",
            "Epoch 55/100\n",
            "21/21 [==============================] - 0s 4ms/step - loss: 7.3050 - mae: 1.8709 - val_loss: 13.7986 - val_mae: 2.5737\n",
            "Epoch 56/100\n",
            "21/21 [==============================] - 0s 4ms/step - loss: 7.1959 - mae: 1.8549 - val_loss: 13.5794 - val_mae: 2.6129\n",
            "Epoch 57/100\n",
            "21/21 [==============================] - 0s 5ms/step - loss: 7.4827 - mae: 1.8838 - val_loss: 14.1107 - val_mae: 2.6910\n",
            "Epoch 58/100\n",
            "21/21 [==============================] - 0s 4ms/step - loss: 7.1459 - mae: 1.8726 - val_loss: 13.8088 - val_mae: 2.6168\n",
            "Epoch 59/100\n",
            "21/21 [==============================] - 0s 4ms/step - loss: 7.1757 - mae: 1.8394 - val_loss: 14.1708 - val_mae: 2.6319\n",
            "Epoch 60/100\n",
            "21/21 [==============================] - 0s 4ms/step - loss: 7.0767 - mae: 1.8423 - val_loss: 13.7072 - val_mae: 2.5680\n",
            "Epoch 61/100\n",
            "21/21 [==============================] - 0s 4ms/step - loss: 7.0739 - mae: 1.8341 - val_loss: 13.9937 - val_mae: 2.6527\n",
            "Epoch 62/100\n",
            "21/21 [==============================] - 0s 4ms/step - loss: 6.9627 - mae: 1.8323 - val_loss: 14.1210 - val_mae: 2.7416\n",
            "Epoch 63/100\n",
            "21/21 [==============================] - 0s 4ms/step - loss: 6.8274 - mae: 1.8070 - val_loss: 13.7292 - val_mae: 2.5774\n",
            "Epoch 64/100\n",
            "21/21 [==============================] - 0s 4ms/step - loss: 6.8745 - mae: 1.8020 - val_loss: 13.9883 - val_mae: 2.5751\n",
            "Epoch 65/100\n",
            "21/21 [==============================] - 0s 4ms/step - loss: 6.6312 - mae: 1.8093 - val_loss: 14.8642 - val_mae: 2.8530\n",
            "Epoch 66/100\n",
            "21/21 [==============================] - 0s 4ms/step - loss: 6.7051 - mae: 1.7999 - val_loss: 16.7892 - val_mae: 2.6836\n",
            "Epoch 67/100\n",
            "21/21 [==============================] - 0s 4ms/step - loss: 6.8794 - mae: 1.8143 - val_loss: 14.0601 - val_mae: 2.6605\n",
            "Epoch 68/100\n",
            "21/21 [==============================] - 0s 5ms/step - loss: 6.6369 - mae: 1.7911 - val_loss: 13.7697 - val_mae: 2.7303\n",
            "Epoch 69/100\n",
            "21/21 [==============================] - 0s 4ms/step - loss: 6.5287 - mae: 1.7710 - val_loss: 14.3304 - val_mae: 2.5944\n",
            "Epoch 70/100\n",
            "21/21 [==============================] - 0s 5ms/step - loss: 6.7652 - mae: 1.7593 - val_loss: 14.1795 - val_mae: 2.5346\n",
            "Epoch 71/100\n",
            "21/21 [==============================] - 0s 4ms/step - loss: 6.5604 - mae: 1.8021 - val_loss: 14.7920 - val_mae: 2.6610\n",
            "Epoch 72/100\n",
            "21/21 [==============================] - 0s 4ms/step - loss: 6.0884 - mae: 1.7201 - val_loss: 13.4692 - val_mae: 2.6281\n",
            "Epoch 73/100\n",
            "21/21 [==============================] - 0s 4ms/step - loss: 6.5241 - mae: 1.7717 - val_loss: 14.4319 - val_mae: 2.5643\n",
            "Epoch 74/100\n",
            "21/21 [==============================] - 0s 4ms/step - loss: 6.3005 - mae: 1.7677 - val_loss: 14.3269 - val_mae: 2.5999\n",
            "Epoch 75/100\n",
            "21/21 [==============================] - 0s 4ms/step - loss: 6.4663 - mae: 1.7545 - val_loss: 14.0712 - val_mae: 2.6319\n",
            "Epoch 76/100\n",
            "21/21 [==============================] - 0s 4ms/step - loss: 6.3915 - mae: 1.7056 - val_loss: 14.5725 - val_mae: 2.6035\n",
            "Epoch 77/100\n",
            "21/21 [==============================] - 0s 5ms/step - loss: 6.3113 - mae: 1.7261 - val_loss: 13.9181 - val_mae: 2.6651\n",
            "Epoch 78/100\n",
            "21/21 [==============================] - 0s 5ms/step - loss: 6.1241 - mae: 1.7354 - val_loss: 14.8266 - val_mae: 2.6493\n",
            "Epoch 79/100\n",
            "21/21 [==============================] - 0s 4ms/step - loss: 6.1022 - mae: 1.7281 - val_loss: 14.0521 - val_mae: 2.5883\n",
            "Epoch 80/100\n",
            "21/21 [==============================] - 0s 4ms/step - loss: 6.0915 - mae: 1.7267 - val_loss: 15.1226 - val_mae: 2.6115\n",
            "Epoch 81/100\n",
            "21/21 [==============================] - 0s 4ms/step - loss: 6.0960 - mae: 1.7105 - val_loss: 13.8093 - val_mae: 2.6082\n",
            "Epoch 82/100\n",
            "21/21 [==============================] - 0s 4ms/step - loss: 6.0531 - mae: 1.7103 - val_loss: 15.0779 - val_mae: 2.5920\n",
            "Epoch 83/100\n",
            "21/21 [==============================] - 0s 4ms/step - loss: 6.0574 - mae: 1.6804 - val_loss: 17.0511 - val_mae: 2.8707\n",
            "Epoch 84/100\n",
            "21/21 [==============================] - 0s 4ms/step - loss: 5.9614 - mae: 1.6902 - val_loss: 14.8266 - val_mae: 2.6660\n",
            "Epoch 85/100\n",
            "21/21 [==============================] - 0s 4ms/step - loss: 6.0621 - mae: 1.6974 - val_loss: 15.7373 - val_mae: 2.5566\n",
            "Epoch 86/100\n",
            "21/21 [==============================] - 0s 4ms/step - loss: 5.8353 - mae: 1.6708 - val_loss: 14.7629 - val_mae: 2.5616\n",
            "Epoch 87/100\n",
            "21/21 [==============================] - 0s 4ms/step - loss: 6.0492 - mae: 1.6968 - val_loss: 14.2665 - val_mae: 2.6241\n",
            "Epoch 88/100\n",
            "21/21 [==============================] - 0s 4ms/step - loss: 5.7970 - mae: 1.6647 - val_loss: 14.0907 - val_mae: 2.5880\n",
            "Epoch 89/100\n",
            "21/21 [==============================] - 0s 5ms/step - loss: 5.7663 - mae: 1.6451 - val_loss: 14.7429 - val_mae: 2.5590\n",
            "Epoch 90/100\n",
            "21/21 [==============================] - 0s 4ms/step - loss: 5.6735 - mae: 1.6343 - val_loss: 14.4792 - val_mae: 2.5915\n",
            "Epoch 91/100\n",
            "21/21 [==============================] - 0s 3ms/step - loss: 5.8825 - mae: 1.6852 - val_loss: 14.3562 - val_mae: 2.5991\n",
            "Epoch 92/100\n",
            "21/21 [==============================] - 0s 4ms/step - loss: 5.8986 - mae: 1.6702 - val_loss: 14.7818 - val_mae: 2.6425\n",
            "Epoch 93/100\n",
            "21/21 [==============================] - 0s 4ms/step - loss: 5.6397 - mae: 1.6176 - val_loss: 14.6502 - val_mae: 2.6103\n",
            "Epoch 94/100\n",
            "21/21 [==============================] - 0s 4ms/step - loss: 5.6723 - mae: 1.6548 - val_loss: 14.2395 - val_mae: 2.6674\n",
            "Epoch 95/100\n",
            "21/21 [==============================] - 0s 5ms/step - loss: 5.5677 - mae: 1.5979 - val_loss: 15.6920 - val_mae: 2.7331\n",
            "Epoch 96/100\n",
            "21/21 [==============================] - 0s 4ms/step - loss: 5.5255 - mae: 1.6389 - val_loss: 13.8291 - val_mae: 2.5999\n",
            "Epoch 97/100\n",
            "21/21 [==============================] - 0s 4ms/step - loss: 5.5000 - mae: 1.6117 - val_loss: 14.6397 - val_mae: 2.5579\n",
            "Epoch 98/100\n",
            "21/21 [==============================] - 0s 4ms/step - loss: 5.5014 - mae: 1.6436 - val_loss: 14.3509 - val_mae: 2.8024\n",
            "Epoch 99/100\n",
            "21/21 [==============================] - 0s 4ms/step - loss: 5.4148 - mae: 1.5917 - val_loss: 14.1151 - val_mae: 2.5711\n",
            "Epoch 100/100\n",
            "21/21 [==============================] - 0s 4ms/step - loss: 5.4402 - mae: 1.6113 - val_loss: 14.1098 - val_mae: 2.5515\n"
          ]
        },
        {
          "output_type": "display_data",
          "data": {
            "text/plain": [
              "<Figure size 1000x600 with 1 Axes>"
            ],
            "image/png": "[encoded data removed]"
          },
          "metadata": {}
        }
      ]
    },
    {
      "cell_type": "markdown",
      "source": [
        "Step 5: Evaluate the model"
      ],
      "metadata": {
        "id": "ITNSZBhpO73P"
      }
    },
    {
      "cell_type": "code",
      "source": [
        "test_mse_score, test_mae_score = model.evaluate(test_data, test_targets)\n",
        "print(f\"Test MSE: {test_mse_score}\")\n",
        "print(f\"Test MAE: {test_mae_score}\")\n"
      ],
      "metadata": {
        "colab": {
          "base_uri": "https://localhost:8080/"
        },
        "id": "NaLTxFquO-nD",
        "outputId": "e590c0a7-6cb4-435d-ab6e-c0e17def1347"
      },
      "execution_count": 5,
      "outputs": [
        {
          "output_type": "stream",
          "name": "stdout",
          "text": [
            "4/4 [==============================] - 0s 5ms/step - loss: 21.9926 - mae: 2.9166\n",
            "Test MSE: 21.99257469177246\n",
            "Test MAE: 2.916591167449951\n"
          ]
        }
      ]
    }
  ]
}